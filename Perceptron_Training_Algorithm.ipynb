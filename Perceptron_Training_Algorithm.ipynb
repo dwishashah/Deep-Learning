{
  "nbformat": 4,
  "nbformat_minor": 0,
  "metadata": {
    "colab": {
      "provenance": [],
      "authorship_tag": "ABX9TyNM/vXhSZQ+j9ULtycku+g0",
      "include_colab_link": true
    },
    "kernelspec": {
      "name": "python3",
      "display_name": "Python 3"
    },
    "language_info": {
      "name": "python"
    }
  },
  "cells": [
    {
      "cell_type": "markdown",
      "metadata": {
        "id": "view-in-github",
        "colab_type": "text"
      },
      "source": [
        "<a href=\"https://colab.research.google.com/github/dwishashah/Deep-Learning/blob/main/Perceptron_Training_Algorithm.ipynb\" target=\"_parent\"><img src=\"https://colab.research.google.com/assets/colab-badge.svg\" alt=\"Open In Colab\"/></a>"
      ]
    },
    {
      "cell_type": "markdown",
      "source": [
        "Perceptron Training Algorithm"
      ],
      "metadata": {
        "id": "duhDWprUxR_G"
      }
    },
    {
      "cell_type": "code",
      "execution_count": null,
      "metadata": {
        "id": "y6f0ytaQw73E"
      },
      "outputs": [],
      "source": [
        "import numpy as np"
      ]
    },
    {
      "cell_type": "code",
      "source": [
        "test1 = np.array([0, 1])\n",
        "test2 = np.array([1, 1])\n",
        "test3 = np.array([0, 0])\n",
        "test4 = np.array([1, 0])"
      ],
      "metadata": {
        "id": "F2Xo39c0yAX_"
      },
      "execution_count": null,
      "outputs": []
    },
    {
      "cell_type": "markdown",
      "source": [
        " Perceptron Model\n"
      ],
      "metadata": {
        "id": "_oC1WEybyRSH"
      }
    },
    {
      "cell_type": "code",
      "source": [
        "def perceptronModel(x, w, b):\n",
        "    v = np.dot(w, x) + b\n",
        "    y = unitStep(v)\n",
        "    return y"
      ],
      "metadata": {
        "id": "6lCHvoB2yFM_"
      },
      "execution_count": null,
      "outputs": []
    },
    {
      "cell_type": "markdown",
      "source": [
        "Step Function"
      ],
      "metadata": {
        "id": "GT5FRzEOyS9e"
      }
    },
    {
      "cell_type": "code",
      "source": [
        "def unitStep(v):\n",
        "    if v >= 0:\n",
        "        return 1\n",
        "    else:\n",
        "        return 0"
      ],
      "metadata": {
        "id": "VNls2syUxIbo"
      },
      "execution_count": null,
      "outputs": []
    },
    {
      "cell_type": "markdown",
      "source": [
        "AND LOGIC GATE"
      ],
      "metadata": {
        "id": "LrxPVj0vyh5O"
      }
    },
    {
      "cell_type": "code",
      "source": [
        "def AND_logicFunction(x):\n",
        "    w = np.array([1, 1])\n",
        "    b = -1.5\n",
        "    return perceptronModel(x, w, b)"
      ],
      "metadata": {
        "id": "u1I4g_L0yXku"
      },
      "execution_count": null,
      "outputs": []
    },
    {
      "cell_type": "code",
      "source": [
        "print(\"AND({}, {}) = {}\".format(0, 1, AND_logicFunction(test1)))\n",
        "print(\"AND({}, {}) = {}\".format(1, 1, AND_logicFunction(test2)))\n",
        "print(\"AND({}, {}) = {}\".format(0, 0, AND_logicFunction(test3)))\n",
        "print(\"AND({}, {}) = {}\".format(1, 0, AND_logicFunction(test4)))"
      ],
      "metadata": {
        "colab": {
          "base_uri": "https://localhost:8080/"
        },
        "id": "j4uAjgIuybuW",
        "outputId": "9a2f1213-9776-4ee9-bae6-5b2b0b6104d1"
      },
      "execution_count": null,
      "outputs": [
        {
          "output_type": "stream",
          "name": "stdout",
          "text": [
            "AND(0, 1) = 0\n",
            "AND(1, 1) = 1\n",
            "AND(0, 0) = 0\n",
            "AND(1, 0) = 0\n"
          ]
        }
      ]
    },
    {
      "cell_type": "markdown",
      "source": [
        "OR LOGIC GATE"
      ],
      "metadata": {
        "id": "-TYBh3oozAE3"
      }
    },
    {
      "cell_type": "code",
      "source": [
        "def OR_logicFunction(x):\n",
        "    w = np.array([1, 1])\n",
        "    b = -0.5\n",
        "    return perceptronModel(x, w, b)"
      ],
      "metadata": {
        "id": "F9LDu_--ye0v"
      },
      "execution_count": null,
      "outputs": []
    },
    {
      "cell_type": "code",
      "source": [
        "print(\"OR({}, {}) = {}\".format(0, 1, OR_logicFunction(test1)))\n",
        "print(\"OR({}, {}) = {}\".format(1, 1, OR_logicFunction(test2)))\n",
        "print(\"OR({}, {}) = {}\".format(0, 0, OR_logicFunction(test3)))\n",
        "print(\"OR({}, {}) = {}\".format(1, 0, OR_logicFunction(test4)))"
      ],
      "metadata": {
        "colab": {
          "base_uri": "https://localhost:8080/"
        },
        "id": "EOsqQe3Oz2TQ",
        "outputId": "5af6e375-6c43-4704-ba21-0ba4635baac0"
      },
      "execution_count": null,
      "outputs": [
        {
          "output_type": "stream",
          "name": "stdout",
          "text": [
            "OR(0, 1) = 1\n",
            "OR(1, 1) = 1\n",
            "OR(0, 0) = 0\n",
            "OR(1, 0) = 1\n"
          ]
        }
      ]
    },
    {
      "cell_type": "markdown",
      "source": [
        "NOT LOGIC GATE"
      ],
      "metadata": {
        "id": "odoEEpag0FHL"
      }
    },
    {
      "cell_type": "code",
      "source": [
        "def NOT_logicFunction(x):\n",
        "    w = -1\n",
        "    b = 0.5\n",
        "    return perceptronModel(x, w, b)"
      ],
      "metadata": {
        "id": "B-RHOHc_z8Zy"
      },
      "execution_count": null,
      "outputs": []
    },
    {
      "cell_type": "code",
      "source": [
        "test11 = np.array(1)\n",
        "test22 = np.array(0)"
      ],
      "metadata": {
        "id": "tuV_jmlR25eW"
      },
      "execution_count": null,
      "outputs": []
    },
    {
      "cell_type": "code",
      "source": [
        "print(\"NOT({}) = {}\".format(1, NOT_logicFunction(test11)))\n",
        "print(\"NOT({}) = {}\".format(0, NOT_logicFunction(test22)))"
      ],
      "metadata": {
        "colab": {
          "base_uri": "https://localhost:8080/"
        },
        "id": "cYMbJ8Fa0UBb",
        "outputId": "b710fdf3-bf4b-4b20-cd44-368b15ae7b0b"
      },
      "execution_count": null,
      "outputs": [
        {
          "output_type": "stream",
          "name": "stdout",
          "text": [
            "NOT(1) = 0\n",
            "NOT(0) = 1\n"
          ]
        }
      ]
    },
    {
      "cell_type": "markdown",
      "source": [
        "NOR LOGIC GATE"
      ],
      "metadata": {
        "id": "1nG44RCw1aHf"
      }
    },
    {
      "cell_type": "code",
      "source": [
        "def NOR_logicFunction(x):\n",
        "    output_OR = OR_logicFunction(x)\n",
        "    output_NOT = NOT_logicFunction(output_OR)\n",
        "    return output_NOT"
      ],
      "metadata": {
        "id": "_936Tf7E0WI-"
      },
      "execution_count": null,
      "outputs": []
    },
    {
      "cell_type": "code",
      "source": [
        "print(\"NOR({}, {}) = {}\".format(0, 1, NOR_logicFunction(test1)))\n",
        "print(\"NOR({}, {}) = {}\".format(1, 1, NOR_logicFunction(test2)))\n",
        "print(\"NOR({}, {}) = {}\".format(0, 0, NOR_logicFunction(test3)))\n",
        "print(\"NOR({}, {}) = {}\".format(1, 0, NOR_logicFunction(test4)))"
      ],
      "metadata": {
        "colab": {
          "base_uri": "https://localhost:8080/"
        },
        "id": "kdP3jhBB1pg3",
        "outputId": "ba22f80e-92e1-4675-8e02-368396668818"
      },
      "execution_count": null,
      "outputs": [
        {
          "output_type": "stream",
          "name": "stdout",
          "text": [
            "NOR(0, 1) = 0\n",
            "NOR(1, 1) = 0\n",
            "NOR(0, 0) = 1\n",
            "NOR(1, 0) = 0\n"
          ]
        }
      ]
    },
    {
      "cell_type": "markdown",
      "source": [
        "NAND LOGIC GATE"
      ],
      "metadata": {
        "id": "qHAi3tnG3P0H"
      }
    },
    {
      "cell_type": "code",
      "source": [
        "def NAND_logicFunction(x):\n",
        "    output_AND = AND_logicFunction(x)\n",
        "    output_NOT = NOT_logicFunction(output_AND)\n",
        "    return output_NOT"
      ],
      "metadata": {
        "id": "GcucViGz3G9X"
      },
      "execution_count": null,
      "outputs": []
    },
    {
      "cell_type": "code",
      "source": [
        "print(\"NAND({}, {}) = {}\".format(0, 1, NAND_logicFunction(test1)))\n",
        "print(\"NAND({}, {}) = {}\".format(1, 1, NAND_logicFunction(test2)))\n",
        "print(\"NAND({}, {}) = {}\".format(0, 0, NAND_logicFunction(test3)))\n",
        "print(\"NAND({}, {}) = {}\".format(1, 0, NAND_logicFunction(test4)))"
      ],
      "metadata": {
        "colab": {
          "base_uri": "https://localhost:8080/"
        },
        "id": "UY5FXH9q4I4x",
        "outputId": "183b6df5-0ad0-435f-aea3-b0a1f3612164"
      },
      "execution_count": null,
      "outputs": [
        {
          "output_type": "stream",
          "name": "stdout",
          "text": [
            "NAND(0, 1) = 1\n",
            "NAND(1, 1) = 0\n",
            "NAND(0, 0) = 1\n",
            "NAND(1, 0) = 1\n"
          ]
        }
      ]
    },
    {
      "cell_type": "markdown",
      "source": [
        "XOR LOGIC GATE"
      ],
      "metadata": {
        "id": "3cgk-x544Rvp"
      }
    },
    {
      "cell_type": "code",
      "source": [
        "def XOR_logicFunction(x):\n",
        "    y1 = AND_logicFunction(x)\n",
        "    y2 = OR_logicFunction(x)\n",
        "    y3 = NOT_logicFunction(y1)\n",
        "    final_x = np.array([y2, y3])\n",
        "    finalOutput = AND_logicFunction(final_x)\n",
        "    return finalOutput"
      ],
      "metadata": {
        "id": "p7lFljUm4Ma3"
      },
      "execution_count": null,
      "outputs": []
    },
    {
      "cell_type": "code",
      "source": [
        "print(\"XOR({}, {}) = {}\".format(0, 1, XOR_logicFunction(test1)))\n",
        "print(\"XOR({}, {}) = {}\".format(1, 1, XOR_logicFunction(test2)))\n",
        "print(\"XOR({}, {}) = {}\".format(0, 0, XOR_logicFunction(test3)))\n",
        "print(\"XOR({}, {}) = {}\".format(1, 0, XOR_logicFunction(test4)))"
      ],
      "metadata": {
        "colab": {
          "base_uri": "https://localhost:8080/"
        },
        "id": "mffPP3mb4ZeB",
        "outputId": "9c1821bb-fadf-4b34-a48f-8c39a844adeb"
      },
      "execution_count": null,
      "outputs": [
        {
          "output_type": "stream",
          "name": "stdout",
          "text": [
            "XOR(0, 1) = 1\n",
            "XOR(1, 1) = 0\n",
            "XOR(0, 0) = 0\n",
            "XOR(1, 0) = 1\n"
          ]
        }
      ]
    }
  ]
}